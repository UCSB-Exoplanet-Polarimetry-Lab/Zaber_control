{
 "cells": [
  {
   "cell_type": "code",
   "execution_count": 1,
   "id": "800a6f8b",
   "metadata": {},
   "outputs": [],
   "source": [
    "from zaber_motion import Units, Library\n",
    "from zaber_motion.ascii import Connection"
   ]
  },
  {
   "cell_type": "code",
   "execution_count": null,
   "id": "d0748505",
   "metadata": {},
   "outputs": [
    {
     "name": "stdout",
     "output_type": "stream",
     "text": [
      "Found 3 devices\n",
      "Device X-RSW60A-E03 at address 1\n",
      "Homing device 1...\n",
      "Moving device 1 by 30 degrees...\n",
      "Device X-RSW60A-E03 at address 2\n",
      "Homing device 2...\n",
      "Moving device 2 by 30 degrees...\n",
      "Device X-RSW60A-E03 at address 3\n",
      "Homing device 3...\n",
      "Moving device 3 by 30 degrees...\n",
      "[Device 1 SN: 131040 Zaber4 (X-RSW60A-E03) -> Connection 7 (ASCII Serial port: COM3), Device 2 SN: 131041 (X-RSW60A-E03) -> Connection 7 (ASCII Serial port: COM3), Device 3 SN: 130711 (X-RSW60A-E03) -> Connection 7 (ASCII Serial port: COM3)]\n"
     ]
    }
   ],
   "source": [
    "with Connection.open_serial_port(\"COM3\") as connection: # replace with correct COM port\n",
    "    connection.enable_alerts()\n",
    "\n",
    "    device_list = connection.detect_devices()\n",
    "    print(\"Found {} devices\".format(len(device_list)))\n",
    "\n",
    "    Zaber1 = device_list[0]\n",
    "    # Zaber2 = device_list[1]\n",
    "\n",
    "    # axis = device.get_axis(1)\n",
    "    # if not axis.is_homed():\n",
    "    #   axis.home()\n",
    "\n",
    "    # # Move to 10mm\n",
    "    # axis.move_absolute(10, Units.LENGTH_MILLIMETRES)\n",
    "\n",
    "    # # Move by an additional 5mm\n",
    "    # axis.move_relative(5, Units.LENGTH_MILLIMETRES)\n",
    "\n",
    "    for device in device_list:\n",
    "        print(f\"Device {device.name} at address {device.device_address}\")\n",
    "\n",
    "        # Get the first axis (rotation stage usually has one axis)\n",
    "        axis = device.get_axis(1)\n",
    "\n",
    "        # Home the axis (required before absolute moves)\n",
    "        print(f\"Homing device {device.device_address}...\")\n",
    "        axis.home()\n",
    "\n",
    "        # Move 30 degrees relative to current position\n",
    "        print(f\"Moving device {device.device_address} by 30 degrees...\")\n",
    "        axis.move_relative(30, unit='deg')\n",
    "\n",
    "print(device_list)"
   ]
  },
  {
   "cell_type": "code",
   "execution_count": 17,
   "id": "bcac8b94",
   "metadata": {},
   "outputs": [
    {
     "name": "stdout",
     "output_type": "stream",
     "text": [
      "False\n",
      "True\n",
      "False\n",
      "5.0001562499975005\n"
     ]
    }
   ],
   "source": [
    "with Connection.open_serial_port(\"COM3\") as connection: # replace with correct COM port\n",
    "    connection.enable_alerts()\n",
    "    device_list = connection.detect_devices()\n",
    "    Zaber4 = device_list[2]\n",
    "    axis = Zaber4.get_axis(1)\n",
    "    axis.home()\n",
    "    axis.move_relative(10, unit='deg')\n",
    "    print(axis.is_busy())\n",
    "    axis.move_absolute(10, unit='deg')\n",
    "    axis.move_relative(-5, unit='deg')\n",
    "    print(axis.is_homed())\n",
    "    print(axis.is_parked())\n",
    "    print(axis.get_position(unit='deg'))"
   ]
  },
  {
   "cell_type": "code",
   "execution_count": null,
   "id": "44c9f97a",
   "metadata": {},
   "outputs": [],
   "source": [
    "# Home all axes of all devices on a port\n",
    "\n",
    "# # connection is previously opened Connection\n",
    "# device_list = connection.detect_devices()\n",
    "\n",
    "# print(\"Found {} devices\".format(len(device_list)))\n",
    "\n",
    "# for device in device_list:\n",
    "#     print(\"Homing all axes of device with address {}.\".format(device.device_address))\n",
    "#     device.all_axes.home()"
   ]
  },
  {
   "cell_type": "code",
   "execution_count": 6,
   "id": "4ba2a294",
   "metadata": {},
   "outputs": [],
   "source": [
    "# Initialize Zaber library and tell devices to move\n",
    "\n",
    "# # Initialize the Zaber library\n",
    "# Library.enable_device_db_store()\n",
    "\n",
    "# # Open the connection to COM3\n",
    "# with Connection.open_serial_port('COM3') as connection:\n",
    "#     # Detect all connected devices\n",
    "#     devices = connection.detect_devices()\n",
    "#     print(f\"Found {len(devices)} device(s)\")\n",
    "\n",
    "#     for device in devices:\n",
    "#         print(f\"Device {device.name} at address {device.device_address}\")\n",
    "\n",
    "#         # Get the first axis (rotation stage usually has one axis)\n",
    "#         axis = device.get_axis(1)\n",
    "\n",
    "#         # Home the axis (required before absolute moves)\n",
    "#         print(f\"Homing device {device.device_address}...\")\n",
    "#         axis.home()\n",
    "\n",
    "#         # Move 10 degrees relative to current position\n",
    "#         print(f\"Moving device {device.device_address} by 10 degrees...\")\n",
    "#         axis.move_relative(10, unit='deg')"
   ]
  },
  {
   "cell_type": "code",
   "execution_count": null,
   "id": "5937cadd",
   "metadata": {},
   "outputs": [],
   "source": []
  }
 ],
 "metadata": {
  "kernelspec": {
   "display_name": "base",
   "language": "python",
   "name": "python3"
  },
  "language_info": {
   "codemirror_mode": {
    "name": "ipython",
    "version": 3
   },
   "file_extension": ".py",
   "mimetype": "text/x-python",
   "name": "python",
   "nbconvert_exporter": "python",
   "pygments_lexer": "ipython3",
   "version": "3.9.12"
  }
 },
 "nbformat": 4,
 "nbformat_minor": 5
}
